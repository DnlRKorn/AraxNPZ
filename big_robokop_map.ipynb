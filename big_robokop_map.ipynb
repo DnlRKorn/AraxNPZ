{
 "cells": [
  {
   "cell_type": "code",
   "execution_count": 2,
   "metadata": {},
   "outputs": [],
   "source": [
    "import pygraphviz as pgv\n",
    "from IPython.display import SVG\n",
    "from neo4j import GraphDatabase\n",
    "import networkx as nx\n",
    "import enum\n",
    "from tqdm.notebook import tqdm"
   ]
  },
  {
   "cell_type": "code",
   "execution_count": 3,
   "metadata": {},
   "outputs": [],
   "source": [
    "valid_smoothing_types = [\"none\",\"avg_dist\",\"graph_dist\",\"power_dist\",\"rng\",\"spring\",\"triangle\"]\n",
    "#class ValidSmoothing(enum.StrEnum):\n",
    "#    none = auto()\n",
    "    \n",
    "def drawSVGsfdp(G : pgv.AGraph, renderToNotebook : bool=True, repulsiveforce : float=1.0, K :float=0.3, smoothing_type : str=\"none\", svg_fname : str='/home/ubuntu/PROJECTS/BIG_ROBOKOP_MAP/graph.svg'):\n",
    "    if(smoothing_type not in valid_smoothing_types):raise ValueError\n",
    "    G.layout(prog=\"sfdp\", args=f\"-Glevels=4 -Goverlap=scale -Grepulsiveforce={repulsiveforce} -GK={K} -Gsmoothing={smoothing_type}\")\n",
    "    G.draw(svg_fname)\n",
    "    if(renderToNotebook): return SVG(svg_fname)\n",
    "\n",
    "def drawSVGneato(G : pgv.AGraph, renderToNotebook : bool=True, svg_fname : str='/home/ubuntu/PROJECTS/BIG_ROBOKOP_MAP/graph.svg'):\n",
    "    G.layout(prog=\"neato\", args=f\"\")\n",
    "    G.draw(svg_fname)\n",
    "    if(renderToNotebook): return SVG(svg_fname)\n",
    "\n",
    "def drawSVGdot(G : pgv.AGraph, renderToNotebook : bool=True, svg_fname : str='/home/ubuntu/PROJECTS/BIG_ROBOKOP_MAP/graph.svg'):\n",
    "    G.layout(prog=\"dot\", args=f\"\")\n",
    "    G.draw(svg_fname)\n",
    "    if(renderToNotebook): return SVG(svg_fname)\n",
    "\n",
    "def drawSVGtwopi(G : pgv.AGraph, renderToNotebook : bool=True, root : str=\"N/A\", svg_fname : str='/home/ubuntu/PROJECTS/BIG_ROBOKOP_MAP/graph.svg'):\n",
    "    G.layout(prog=\"twopi\", args=f\"-Groot={root}\")\n",
    "    G.draw(svg_fname)\n",
    "    if(renderToNotebook): return SVG(svg_fname)"
   ]
  },
  {
   "cell_type": "code",
   "execution_count": 4,
   "metadata": {},
   "outputs": [
    {
     "ename": "KeyboardInterrupt",
     "evalue": "",
     "output_type": "error",
     "traceback": [
      "\u001b[0;31m---------------------------------------------------------------------------\u001b[0m",
      "\u001b[0;31mKeyboardInterrupt\u001b[0m                         Traceback (most recent call last)",
      "\u001b[1;32m/home/ubuntu/PROJECTS/BIG_ROBOKOP_MAP/big_robokop_map.ipynb Cell 3\u001b[0m line \u001b[0;36m1\n\u001b[1;32m     <a href='vscode-notebook-cell://ssh-remote%2B18.207.206.216/home/ubuntu/PROJECTS/BIG_ROBOKOP_MAP/big_robokop_map.ipynb#W2sdnNjb2RlLXJlbW90ZQ%3D%3D?line=9'>10</a>\u001b[0m G \u001b[39m=\u001b[39m pgv\u001b[39m.\u001b[39mAGraph()\n\u001b[1;32m     <a href='vscode-notebook-cell://ssh-remote%2B18.207.206.216/home/ubuntu/PROJECTS/BIG_ROBOKOP_MAP/big_robokop_map.ipynb#W2sdnNjb2RlLXJlbW90ZQ%3D%3D?line=10'>11</a>\u001b[0m \u001b[39m#G = nx.MultiDiGraph()\u001b[39;00m\n\u001b[0;32m---> <a href='vscode-notebook-cell://ssh-remote%2B18.207.206.216/home/ubuntu/PROJECTS/BIG_ROBOKOP_MAP/big_robokop_map.ipynb#W2sdnNjb2RlLXJlbW90ZQ%3D%3D?line=11'>12</a>\u001b[0m results \u001b[39m=\u001b[39m driver\u001b[39m.\u001b[39;49msession()\u001b[39m.\u001b[39;49mrun(query)\n\u001b[1;32m     <a href='vscode-notebook-cell://ssh-remote%2B18.207.206.216/home/ubuntu/PROJECTS/BIG_ROBOKOP_MAP/big_robokop_map.ipynb#W2sdnNjb2RlLXJlbW90ZQ%3D%3D?line=12'>13</a>\u001b[0m nodes \u001b[39m=\u001b[39m \u001b[39mlist\u001b[39m(\u001b[39mset\u001b[39m(results\u001b[39m.\u001b[39mgraph()\u001b[39m.\u001b[39m_nodes\u001b[39m.\u001b[39mvalues()))\n\u001b[1;32m     <a href='vscode-notebook-cell://ssh-remote%2B18.207.206.216/home/ubuntu/PROJECTS/BIG_ROBOKOP_MAP/big_robokop_map.ipynb#W2sdnNjb2RlLXJlbW90ZQ%3D%3D?line=13'>14</a>\u001b[0m rels \u001b[39m=\u001b[39m \u001b[39mlist\u001b[39m(results\u001b[39m.\u001b[39mgraph()\u001b[39m.\u001b[39m_relationships\u001b[39m.\u001b[39mvalues())\n",
      "File \u001b[0;32m~/miniconda3/lib/python3.9/site-packages/neo4j/_sync/work/session.py:313\u001b[0m, in \u001b[0;36mSession.run\u001b[0;34m(self, query, parameters, **kwargs)\u001b[0m\n\u001b[1;32m    311\u001b[0m bookmarks \u001b[39m=\u001b[39m \u001b[39mself\u001b[39m\u001b[39m.\u001b[39m_get_bookmarks()\n\u001b[1;32m    312\u001b[0m parameters \u001b[39m=\u001b[39m \u001b[39mdict\u001b[39m(parameters \u001b[39mor\u001b[39;00m {}, \u001b[39m*\u001b[39m\u001b[39m*\u001b[39mkwargs)\n\u001b[0;32m--> 313\u001b[0m \u001b[39mself\u001b[39;49m\u001b[39m.\u001b[39;49m_auto_result\u001b[39m.\u001b[39;49m_run(\n\u001b[1;32m    314\u001b[0m     query, parameters, \u001b[39mself\u001b[39;49m\u001b[39m.\u001b[39;49m_config\u001b[39m.\u001b[39;49mdatabase,\n\u001b[1;32m    315\u001b[0m     \u001b[39mself\u001b[39;49m\u001b[39m.\u001b[39;49m_config\u001b[39m.\u001b[39;49mimpersonated_user, \u001b[39mself\u001b[39;49m\u001b[39m.\u001b[39;49m_config\u001b[39m.\u001b[39;49mdefault_access_mode,\n\u001b[1;32m    316\u001b[0m     bookmarks, \u001b[39mself\u001b[39;49m\u001b[39m.\u001b[39;49m_config\u001b[39m.\u001b[39;49mnotifications_min_severity,\n\u001b[1;32m    317\u001b[0m     \u001b[39mself\u001b[39;49m\u001b[39m.\u001b[39;49m_config\u001b[39m.\u001b[39;49mnotifications_disabled_categories,\n\u001b[1;32m    318\u001b[0m )\n\u001b[1;32m    320\u001b[0m \u001b[39mreturn\u001b[39;00m \u001b[39mself\u001b[39m\u001b[39m.\u001b[39m_auto_result\n",
      "File \u001b[0;32m~/miniconda3/lib/python3.9/site-packages/neo4j/_sync/work/result.py:181\u001b[0m, in \u001b[0;36mResult._run\u001b[0;34m(self, query, parameters, db, imp_user, access_mode, bookmarks, notifications_min_severity, notifications_disabled_categories)\u001b[0m\n\u001b[1;32m    179\u001b[0m \u001b[39mself\u001b[39m\u001b[39m.\u001b[39m_pull()\n\u001b[1;32m    180\u001b[0m \u001b[39mself\u001b[39m\u001b[39m.\u001b[39m_connection\u001b[39m.\u001b[39msend_all()\n\u001b[0;32m--> 181\u001b[0m \u001b[39mself\u001b[39;49m\u001b[39m.\u001b[39;49m_attach()\n",
      "File \u001b[0;32m~/miniconda3/lib/python3.9/site-packages/neo4j/_sync/work/result.py:298\u001b[0m, in \u001b[0;36mResult._attach\u001b[0;34m(self)\u001b[0m\n\u001b[1;32m    296\u001b[0m \u001b[39mif\u001b[39;00m \u001b[39mself\u001b[39m\u001b[39m.\u001b[39m_exhausted \u001b[39mis\u001b[39;00m \u001b[39mFalse\u001b[39;00m:\n\u001b[1;32m    297\u001b[0m     \u001b[39mwhile\u001b[39;00m \u001b[39mself\u001b[39m\u001b[39m.\u001b[39m_attached \u001b[39mis\u001b[39;00m \u001b[39mFalse\u001b[39;00m:\n\u001b[0;32m--> 298\u001b[0m         \u001b[39mself\u001b[39;49m\u001b[39m.\u001b[39;49m_connection\u001b[39m.\u001b[39;49mfetch_message()\n",
      "File \u001b[0;32m~/miniconda3/lib/python3.9/site-packages/neo4j/_sync/io/_common.py:178\u001b[0m, in \u001b[0;36mConnectionErrorHandler.__getattr__.<locals>.outer.<locals>.inner\u001b[0;34m(*args, **kwargs)\u001b[0m\n\u001b[1;32m    176\u001b[0m \u001b[39mdef\u001b[39;00m \u001b[39minner\u001b[39m(\u001b[39m*\u001b[39margs, \u001b[39m*\u001b[39m\u001b[39m*\u001b[39mkwargs):\n\u001b[1;32m    177\u001b[0m     \u001b[39mtry\u001b[39;00m:\n\u001b[0;32m--> 178\u001b[0m         func(\u001b[39m*\u001b[39;49margs, \u001b[39m*\u001b[39;49m\u001b[39m*\u001b[39;49mkwargs)\n\u001b[1;32m    179\u001b[0m     \u001b[39mexcept\u001b[39;00m (Neo4jError, ServiceUnavailable, SessionExpired) \u001b[39mas\u001b[39;00m exc:\n\u001b[1;32m    180\u001b[0m         \u001b[39massert\u001b[39;00m \u001b[39mnot\u001b[39;00m asyncio\u001b[39m.\u001b[39miscoroutinefunction(\u001b[39mself\u001b[39m\u001b[39m.\u001b[39m__on_error)\n",
      "File \u001b[0;32m~/miniconda3/lib/python3.9/site-packages/neo4j/_sync/io/_bolt.py:846\u001b[0m, in \u001b[0;36mBolt.fetch_message\u001b[0;34m(self)\u001b[0m\n\u001b[1;32m    843\u001b[0m     \u001b[39mreturn\u001b[39;00m \u001b[39m0\u001b[39m, \u001b[39m0\u001b[39m\n\u001b[1;32m    845\u001b[0m \u001b[39m# Receive exactly one message\u001b[39;00m\n\u001b[0;32m--> 846\u001b[0m tag, fields \u001b[39m=\u001b[39m \u001b[39mself\u001b[39;49m\u001b[39m.\u001b[39;49minbox\u001b[39m.\u001b[39;49mpop(\n\u001b[1;32m    847\u001b[0m     hydration_hooks\u001b[39m=\u001b[39;49m\u001b[39mself\u001b[39;49m\u001b[39m.\u001b[39;49mresponses[\u001b[39m0\u001b[39;49m]\u001b[39m.\u001b[39;49mhydration_hooks\n\u001b[1;32m    848\u001b[0m )\n\u001b[1;32m    849\u001b[0m res \u001b[39m=\u001b[39m \u001b[39mself\u001b[39m\u001b[39m.\u001b[39m_process_message(tag, fields)\n\u001b[1;32m    850\u001b[0m \u001b[39mself\u001b[39m\u001b[39m.\u001b[39midle_since \u001b[39m=\u001b[39m perf_counter()\n",
      "File \u001b[0;32m~/miniconda3/lib/python3.9/site-packages/neo4j/_sync/io/_common.py:72\u001b[0m, in \u001b[0;36mInbox.pop\u001b[0;34m(self, hydration_hooks)\u001b[0m\n\u001b[1;32m     71\u001b[0m \u001b[39mdef\u001b[39;00m \u001b[39mpop\u001b[39m(\u001b[39mself\u001b[39m, hydration_hooks):\n\u001b[0;32m---> 72\u001b[0m     \u001b[39mself\u001b[39;49m\u001b[39m.\u001b[39;49m_buffer_one_chunk()\n\u001b[1;32m     73\u001b[0m     \u001b[39mtry\u001b[39;00m:\n\u001b[1;32m     74\u001b[0m         size, tag \u001b[39m=\u001b[39m \u001b[39mself\u001b[39m\u001b[39m.\u001b[39m_unpacker\u001b[39m.\u001b[39munpack_structure_header()\n",
      "File \u001b[0;32m~/miniconda3/lib/python3.9/site-packages/neo4j/_sync/io/_common.py:51\u001b[0m, in \u001b[0;36mInbox._buffer_one_chunk\u001b[0;34m(self)\u001b[0m\n\u001b[1;32m     48\u001b[0m \u001b[39mwhile\u001b[39;00m \u001b[39mTrue\u001b[39;00m:\n\u001b[1;32m     49\u001b[0m     \u001b[39mwhile\u001b[39;00m chunk_size \u001b[39m==\u001b[39m \u001b[39m0\u001b[39m:\n\u001b[1;32m     50\u001b[0m         \u001b[39m# Determine the chunk size and skip noop\u001b[39;00m\n\u001b[0;32m---> 51\u001b[0m         receive_into_buffer(\u001b[39mself\u001b[39;49m\u001b[39m.\u001b[39;49m_socket, \u001b[39mself\u001b[39;49m\u001b[39m.\u001b[39;49m_buffer, \u001b[39m2\u001b[39;49m)\n\u001b[1;32m     52\u001b[0m         chunk_size \u001b[39m=\u001b[39m \u001b[39mself\u001b[39m\u001b[39m.\u001b[39m_buffer\u001b[39m.\u001b[39mpop_u16()\n\u001b[1;32m     53\u001b[0m         \u001b[39mif\u001b[39;00m chunk_size \u001b[39m==\u001b[39m \u001b[39m0\u001b[39m:\n",
      "File \u001b[0;32m~/miniconda3/lib/python3.9/site-packages/neo4j/_sync/io/_common.py:306\u001b[0m, in \u001b[0;36mreceive_into_buffer\u001b[0;34m(sock, buffer, n_bytes)\u001b[0m\n\u001b[1;32m    304\u001b[0m \u001b[39mwith\u001b[39;00m \u001b[39mmemoryview\u001b[39m(buffer\u001b[39m.\u001b[39mdata) \u001b[39mas\u001b[39;00m view:\n\u001b[1;32m    305\u001b[0m     \u001b[39mwhile\u001b[39;00m buffer\u001b[39m.\u001b[39mused \u001b[39m<\u001b[39m end:\n\u001b[0;32m--> 306\u001b[0m         n \u001b[39m=\u001b[39m sock\u001b[39m.\u001b[39;49mrecv_into(view[buffer\u001b[39m.\u001b[39;49mused:end], end \u001b[39m-\u001b[39;49m buffer\u001b[39m.\u001b[39;49mused)\n\u001b[1;32m    307\u001b[0m         \u001b[39mif\u001b[39;00m n \u001b[39m==\u001b[39m \u001b[39m0\u001b[39m:\n\u001b[1;32m    308\u001b[0m             \u001b[39mraise\u001b[39;00m \u001b[39mOSError\u001b[39;00m(\u001b[39m\"\u001b[39m\u001b[39mNo data\u001b[39m\u001b[39m\"\u001b[39m)\n",
      "File \u001b[0;32m~/miniconda3/lib/python3.9/site-packages/neo4j/_async_compat/network/_bolt_socket.py:493\u001b[0m, in \u001b[0;36mBoltSocket.recv_into\u001b[0;34m(self, buffer, nbytes)\u001b[0m\n\u001b[1;32m    492\u001b[0m \u001b[39mdef\u001b[39;00m \u001b[39mrecv_into\u001b[39m(\u001b[39mself\u001b[39m, buffer, nbytes):\n\u001b[0;32m--> 493\u001b[0m     \u001b[39mreturn\u001b[39;00m \u001b[39mself\u001b[39;49m\u001b[39m.\u001b[39;49m_wait_for_io(\u001b[39mself\u001b[39;49m\u001b[39m.\u001b[39;49m_socket\u001b[39m.\u001b[39;49mrecv_into, buffer, nbytes)\n",
      "File \u001b[0;32m~/miniconda3/lib/python3.9/site-packages/neo4j/_async_compat/network/_bolt_socket.py:468\u001b[0m, in \u001b[0;36mBoltSocket._wait_for_io\u001b[0;34m(self, func, *args, **kwargs)\u001b[0m\n\u001b[1;32m    466\u001b[0m \u001b[39mdef\u001b[39;00m \u001b[39m_wait_for_io\u001b[39m(\u001b[39mself\u001b[39m, func, \u001b[39m*\u001b[39margs, \u001b[39m*\u001b[39m\u001b[39m*\u001b[39mkwargs):\n\u001b[1;32m    467\u001b[0m     \u001b[39mif\u001b[39;00m \u001b[39mself\u001b[39m\u001b[39m.\u001b[39m_deadline \u001b[39mis\u001b[39;00m \u001b[39mNone\u001b[39;00m:\n\u001b[0;32m--> 468\u001b[0m         \u001b[39mreturn\u001b[39;00m func(\u001b[39m*\u001b[39;49margs, \u001b[39m*\u001b[39;49m\u001b[39m*\u001b[39;49mkwargs)\n\u001b[1;32m    469\u001b[0m     timeout \u001b[39m=\u001b[39m \u001b[39mself\u001b[39m\u001b[39m.\u001b[39m_socket\u001b[39m.\u001b[39mgettimeout()\n\u001b[1;32m    470\u001b[0m     deadline_timeout \u001b[39m=\u001b[39m \u001b[39mself\u001b[39m\u001b[39m.\u001b[39m_deadline\u001b[39m.\u001b[39mto_timeout()\n",
      "\u001b[0;31mKeyboardInterrupt\u001b[0m: "
     ]
    }
   ],
   "source": [
    "\n",
    "\n",
    "driver = GraphDatabase.driver('bolt://robokopkg.renci.org:7687', auth=(\"\", \"\"))\n",
    "\n",
    "query = \"\"\"\n",
    "MATCH (d:`biolink:DiseaseOrPhenotypicFeature`)-[r1]-(g:`biolink:Gene`)-[r2]-(c:`biolink:ChemicalEntity`) WHERE toLower(d.name) CONTAINS \"castleman disease\" AND EXISTS(c.smiles) RETURN * LIMIT 750\n",
    "UNION\n",
    "MATCH (d:`biolink:DiseaseOrPhenotypicFeature`)-[r1]-(g:`biolink:Gene`)-[r2]-(c:`biolink:ChemicalEntity`) WHERE toLower(d.name) CONTAINS \"castleman disease\" AND EXISTS(c.smiles) AND g.name<>\"VEGFA\" RETURN * LIMIT 750\n",
    "\"\"\"\n",
    "\n",
    "\n",
    "G = pgv.AGraph()\n",
    "#G = nx.MultiDiGraph()\n",
    "results = driver.session().run(query)\n",
    "nodes = list(set(results.graph()._nodes.values()))\n",
    "rels = list(results.graph()._relationships.values())\n",
    "\n",
    "print(\"Nodes:\",len(nodes))\n",
    "print(\"Edges:\",len(rels))"
   ]
  },
  {
   "cell_type": "code",
   "execution_count": 5,
   "metadata": {},
   "outputs": [],
   "source": [
    "def makeDiseaseToGeneQuery(disease_name : str,limit : int =100):\n",
    "    query = f'MATCH (d:`biolink:DiseaseOrPhenotypicFeature`)-[r1]-(g:`biolink:Gene`) WHERE d.name=\"{disease_name}\" RETURN * LIMIT {limit}'\n",
    "    return query\n",
    "\n",
    "\n",
    "def makeGeneToDrugQuery(gene_name : str,limit : int =100):\n",
    "    query = f'MATCH (g:`biolink:Gene`)-[r1]-(c:`biolink:ChemicalEntity`) WHERE g.name=\"{gene_name}\" AND EXISTS(c.smiles) RETURN * LIMIT {limit}'\n",
    "    return query\n",
    "\n",
    "def getNodeRelsQuery(query : str):\n",
    "    results = driver.session().run(query)\n",
    "    nodes = list(set(results.graph()._nodes.values()))\n",
    "    rels = list(results.graph()._relationships.values())\n",
    "    return (nodes, rels)\n",
    "\n",
    "def getListOfGeneNames(rels):\n",
    "    gene_names = set()\n",
    "    for rel in rels:\n",
    "        if(\"biolink:Gene\" in rel.start_node._labels):\n",
    "            gene_names.add(rel.start_node._properties[\"name\"])\n",
    "        if(\"biolink:Gene\" in rel.end_node._labels):\n",
    "            gene_names.add(rel.end_node._properties[\"name\"])\n",
    "\n",
    "    return sorted(list(gene_names))\n",
    "\n",
    "def addGeneNodeRelsToGraph(G,gene_name,limit=50,max_name_len=10):\n",
    "    gene_query = makeGeneToDrugQuery(gene_name,limit)\n",
    "    (nodes,rels) = getNodeRelsQuery(gene_query)\n",
    "    addNodesRelsToGraph(G,nodes,rels,max_name_len)\n",
    "    return G\n",
    "\n",
    "#This function is mostly for visualizability. It lets you filter nodes based on names.\n",
    "#It mostly works on throwing out names which are too long (they don't render well).\n",
    "#You can override this by adding a specific name to the list of preapproved_names.\n",
    "def approvedName(name,max_name_len=10, preapproved_names=[\"castleman\"]):\n",
    "    for preapproved in preapproved_names:\n",
    "        if(preapproved.lower() in name.lower()):return True\n",
    "        if(name.lower() in preapproved.lower()):return True\n",
    "    if(len(name)>max_name_len):return False\n",
    "    return True\n",
    "\n",
    "def getColor(node):\n",
    "#    print(node._properties)\n",
    "#    print('biolink:ChemicalEntity' in node._properties)\n",
    "    if('biolink:ChemicalEntity' in node._labels): return \"orange\"\n",
    "    elif(\"biolink:Gene\" in node._labels):return \"green\"\n",
    "    elif('biolink:Disease' in node._labels):return \"red\"\n",
    "    else:\n",
    "        print(node._labels)\n",
    "        return \"red\"\n",
    "\n",
    "\n",
    "def addNodesRelsToGraph(G = pgv.AGraph(), nodes=[],rels=[],max_name_len=10):\n",
    "#    G = pgv.AGraph(args='-Gcolorscheme=\"oranges9\"')\n",
    "\n",
    "    for node in nodes:\n",
    "        name = node._properties[\"name\"]\n",
    "        if(approvedName(name,max_name_len)):\n",
    "            G.add_node(node._properties[\"name\"],color=getColor(node))\n",
    "\n",
    "    #print(\"Approved nodes:\",len(G.nodes()))\n",
    "    for rel in rels:\n",
    "        if(False):\n",
    "            print('start',rel.start_node.element_id)\n",
    "            print('end',rel.end_node.element_id)\n",
    "            print('key',rel.element_id,type(rel.element_id))\n",
    "            print('type',rel.type)\n",
    "            print('prop',rel._properties)\n",
    "        start = rel.start_node._properties[\"name\"]\n",
    "        end = rel.end_node._properties[\"name\"]\n",
    "        if(approvedName(start,max_name_len) and approvedName(end,max_name_len)):\n",
    "            if(not G.has_edge(start,end)):\n",
    "                G.add_edge(start,end,type=rel.type)\n",
    "    return G"
   ]
  },
  {
   "cell_type": "code",
   "execution_count": 37,
   "metadata": {},
   "outputs": [],
   "source": [
    "def getDrugName(rel):\n",
    "    if('biolink:ChemicalEntity' in rel.end_node._labels):rel.end_node._properties[\"name\"]\n",
    "    else:return rel.start_node._properties[\"name\"]\n",
    "\n",
    "def makeCastlemanGraph(drug_to_single_gene=True):\n",
    "    G = pgv.AGraph()\n",
    "    print('running cd query')\n",
    "    cd_query = makeDiseaseToGeneQuery(\"Castleman disease\",50)\n",
    "    (nodes,rels) = getNodeRelsQuery(cd_query)\n",
    "    addNodesRelsToGraph(G,nodes,rels,15)\n",
    "    gene_names = getListOfGeneNames(rels)\n",
    "    gene_names = gene_names[0:27]\n",
    "    seen_drugs = set()\n",
    "    #query_results = {}\n",
    "    #limit = 500\n",
    "    #for gene_name in tqdm(gene_names):\n",
    "    #    gene_query = makeGeneToDrugQuery(gene_name,limit)\n",
    "    #    (nodes,rels) = getNodeRelsQuery(gene_query)\n",
    "    #    query_results[gene_name] = (nodes,rels)\n",
    "    if(drug_to_single_gene):\n",
    "        seen_drugs = set()\n",
    "        for i in range(limit//20):\n",
    "            for gene_name in gene_names:\n",
    "                (nodes,rels) = query_results[gene_name]\n",
    "                new_rels = [rel for rel in rels if getDrugName(rel) not in seen_drugs]\n",
    "                twenty_drugs = new_rels[0:20]\n",
    "                drug_names = [getDrugName(rel) for rel in twenty_drugs]\n",
    "                seen_drugs.update(drug_names)\n",
    "                addNodesRelsToGraph(G,nodes,twenty_drugs,15)\n",
    "    else:\n",
    "        for gene_name in gene_names:\n",
    "            (nodes,rels) = query_results[gene_name]\n",
    "            addNodesRelsToGraph(G,nodes,rels,15)\n",
    "    return G"
   ]
  },
  {
   "cell_type": "code",
   "execution_count": 7,
   "metadata": {},
   "outputs": [
    {
     "name": "stdout",
     "output_type": "stream",
     "text": [
      "running cd query\n"
     ]
    }
   ],
   "source": [
    "\n",
    "print('running cd query')\n",
    "cd_query = makeDiseaseToGeneQuery(\"Castleman disease\",50)\n",
    "(cd_nodes,cd_rels) = getNodeRelsQuery(cd_query)\n",
    "\n",
    "\n",
    "\n"
   ]
  },
  {
   "cell_type": "code",
   "execution_count": 19,
   "metadata": {},
   "outputs": [
    {
     "data": {
      "text/plain": [
       "40"
      ]
     },
     "execution_count": 19,
     "metadata": {},
     "output_type": "execute_result"
    }
   ],
   "source": [
    "G = pgv.AGraph()\n",
    "addNodesRelsToGraph(G,cd_nodes,cd_rels,15)\n",
    "gene_names = getListOfGeneNames(cd_rels)\n",
    "len(gene_names)"
   ]
  },
  {
   "cell_type": "code",
   "execution_count": 30,
   "metadata": {},
   "outputs": [
    {
     "data": {
      "application/vnd.jupyter.widget-view+json": {
       "model_id": "ef9b8a978a5a4073b8687bb7a46e8926",
       "version_major": 2,
       "version_minor": 0
      },
      "text/plain": [
       "  0%|          | 0/27 [00:00<?, ?it/s]"
      ]
     },
     "metadata": {},
     "output_type": "display_data"
    }
   ],
   "source": [
    "query_results = {}\n",
    "limit = 100\n",
    "gene_names = gene_names[0:27]\n",
    "for gene_name in tqdm(gene_names):\n",
    "    gene_query = makeGeneToDrugQuery(gene_name,limit)\n",
    "    (nodes,rels) = getNodeRelsQuery(gene_query)\n",
    "    query_results[gene_name] = (nodes,rels)"
   ]
  },
  {
   "cell_type": "code",
   "execution_count": 22,
   "metadata": {},
   "outputs": [],
   "source": [
    "def getDrugName(rel):\n",
    "    if('biolink:ChemicalEntity' in rel.end_node._labels):rel.end_node._properties[\"name\"]\n",
    "    else:return rel.start_node._properties[\"name\"]\n",
    "\n",
    "seen_drugs = set()\n",
    "for i in range(limit//20):\n",
    "    for gene_name in gene_names:\n",
    "        (nodes,rels) = query_results[gene_name]\n",
    "        new_rels = [rel for rel in rels if getDrugName(rel) not in seen_drugs]\n",
    "        twenty_drugs = new_rels[0:20]\n",
    "        drug_names = [getDrugName(rel) for rel in twenty_drugs]\n",
    "        seen_drugs.update(drug_names)\n",
    "        addNodesRelsToGraph(G,nodes,twenty_drugs,15)\n",
    "\n"
   ]
  },
  {
   "cell_type": "code",
   "execution_count": 38,
   "metadata": {},
   "outputs": [
    {
     "name": "stdout",
     "output_type": "stream",
     "text": [
      "running cd query\n"
     ]
    }
   ],
   "source": [
    "G = makeCastlemanGraph(False)"
   ]
  },
  {
   "cell_type": "code",
   "execution_count": 44,
   "metadata": {},
   "outputs": [],
   "source": [
    "drawSVGsfdp(G,False,6,2.4,\"none\")"
   ]
  },
  {
   "cell_type": "code",
   "execution_count": 24,
   "metadata": {},
   "outputs": [],
   "source": [
    "drawSVGneato(G,False,)"
   ]
  },
  {
   "cell_type": "code",
   "execution_count": 42,
   "metadata": {},
   "outputs": [],
   "source": [
    "drawSVGtwopi(G,False,\"'Castleman disease'\")"
   ]
  },
  {
   "cell_type": "code",
   "execution_count": 15,
   "metadata": {},
   "outputs": [],
   "source": [
    "drawSVGdot(G,False,)"
   ]
  },
  {
   "cell_type": "code",
   "execution_count": 86,
   "metadata": {},
   "outputs": [],
   "source": [
    "#G = makeCastlemanGraph()\n",
    "drawSVG(G,False,11.0,0.1,\"none\")"
   ]
  },
  {
   "cell_type": "code",
   "execution_count": 40,
   "metadata": {},
   "outputs": [],
   "source": [
    "cd_query = makeDiseaseToGeneQuery(\"Castleman disease\",10)\n",
    "(nodes,rels) = getNodeRelsQuery(cd_query)\n",
    "gene_names = getListOfGeneNames(nodes)"
   ]
  },
  {
   "cell_type": "code",
   "execution_count": 41,
   "metadata": {},
   "outputs": [
    {
     "name": "stdout",
     "output_type": "stream",
     "text": [
      "Approved nodes: 9\n",
      "9\n"
     ]
    }
   ],
   "source": [
    "G = pgv.AGraph()\n",
    "addNodesRelsToGraph(G,nodes,rels,6)\n",
    "print(len(G.nodes()))"
   ]
  },
  {
   "cell_type": "code",
   "execution_count": 42,
   "metadata": {},
   "outputs": [
    {
     "name": "stdout",
     "output_type": "stream",
     "text": [
      "51\n",
      "Approved nodes: 55\n",
      "55\n"
     ]
    }
   ],
   "source": [
    "gene = gene_names[1]\n",
    "gene_query = makeGeneToDrugQuery(gene,50)\n",
    "(nodes,rels) = getNodeRelsQuery(gene_query)\n",
    "print(len(nodes))\n",
    "addNodesRelsToGraph(G,nodes,rels,15)\n",
    "print(len(G.nodes()))"
   ]
  },
  {
   "cell_type": "code",
   "execution_count": 48,
   "metadata": {},
   "outputs": [
    {
     "name": "stdout",
     "output_type": "stream",
     "text": [
      "RPL17\n",
      "Approved nodes: 80\n"
     ]
    }
   ],
   "source": [
    "print(gene_names[3])\n",
    "_ = addGeneNodeRelsToGraph(G,gene_names[3],50)"
   ]
  },
  {
   "cell_type": "code",
   "execution_count": 49,
   "metadata": {},
   "outputs": [],
   "source": [
    "drawSVGsfdp(G,False,11.0,0.1,\"none\")"
   ]
  },
  {
   "cell_type": "code",
   "execution_count": 1,
   "metadata": {},
   "outputs": [
    {
     "ename": "NameError",
     "evalue": "name 'drawSVGtwopi' is not defined",
     "output_type": "error",
     "traceback": [
      "\u001b[0;31m---------------------------------------------------------------------------\u001b[0m",
      "\u001b[0;31mNameError\u001b[0m                                 Traceback (most recent call last)",
      "\u001b[1;32m/home/ubuntu/PROJECTS/BIG_ROBOKOP_MAP/big_robokop_map.ipynb Cell 17\u001b[0m line \u001b[0;36m1\n\u001b[0;32m----> <a href='vscode-notebook-cell://ssh-remote%2B18.207.206.216/home/ubuntu/PROJECTS/BIG_ROBOKOP_MAP/big_robokop_map.ipynb#X22sdnNjb2RlLXJlbW90ZQ%3D%3D?line=0'>1</a>\u001b[0m drawSVGtwopi(G,\u001b[39mFalse\u001b[39;00m,\u001b[39m\"\u001b[39m\u001b[39m'\u001b[39m\u001b[39mCastleman disease\u001b[39m\u001b[39m'\u001b[39m\u001b[39m\"\u001b[39m)\n",
      "\u001b[0;31mNameError\u001b[0m: name 'drawSVGtwopi' is not defined"
     ]
    }
   ],
   "source": [
    "drawSVGtwopi(G,False,\"'Castleman disease'\")"
   ]
  },
  {
   "cell_type": "code",
   "execution_count": 34,
   "metadata": {},
   "outputs": [],
   "source": [
    "#G.layout(prog=\"sfdp\", args=\"-Glevels=2.0 -Goverlap=scale -Grepulsiveforce=0.5\")\n",
    "\n",
    "G.layout(prog=\"sfdp\", args=\"-Glevels=2.0\")\n",
    "G.draw('/home/ubuntu/PROJECTS/BIG_ROBOKOP_MAP/web.svg')"
   ]
  },
  {
   "cell_type": "code",
   "execution_count": 185,
   "metadata": {},
   "outputs": [],
   "source": [
    "G.layout(prog=\"sfdp\", args=\"-Glevels=4 -Goverlap=scale -Grepulsiveforce=6.5\")"
   ]
  },
  {
   "cell_type": "code",
   "execution_count": 189,
   "metadata": {},
   "outputs": [],
   "source": [
    "G.draw('/home/ubuntu/PROJECTS/BIG_ROBOKOP_MAP/castleman_demo_v1.svg')"
   ]
  },
  {
   "cell_type": "code",
   "execution_count": 190,
   "metadata": {},
   "outputs": [
    {
     "data": {
      "image/svg+xml": [
       "<svg xmlns=\"http://www.w3.org/2000/svg\" xmlns:xlink=\"http://www.w3.org/1999/xlink\" width=\"889pt\" height=\"561pt\" viewBox=\"0.00 0.00 889.03 560.54\">\n",
       "<g id=\"graph0\" class=\"graph\" transform=\"scale(1 1) rotate(0) translate(4 556.54)\">\n",
       "<polygon fill=\"white\" stroke=\"transparent\" points=\"-4,4 -4,-556.54 885.03,-556.54 885.03,4 -4,4\"/>\n",
       "<!-- Castleman disease -->\n",
       "<g id=\"node1\" class=\"node\">\n",
       "<title>Castleman disease</title>\n",
       "<ellipse fill=\"none\" stroke=\"red\" cx=\"562.99\" cy=\"-201.2\" rx=\"97.5\" ry=\"18\"/>\n",
       "<text text-anchor=\"middle\" x=\"562.99\" y=\"-197.5\" font-family=\"Times,serif\" font-size=\"14.00\">Castleman disease</text>\n",
       "</g>\n",
       "<!-- PPL -->\n",
       "<g id=\"node2\" class=\"node\">\n",
       "<title>PPL</title>\n",
       "<ellipse fill=\"none\" stroke=\"green\" cx=\"712.7\" cy=\"-273.67\" rx=\"29.5\" ry=\"18\"/>\n",
       "<text text-anchor=\"middle\" x=\"712.7\" y=\"-269.97\" font-family=\"Times,serif\" font-size=\"14.00\">PPL</text>\n",
       "</g>\n",
       "<!-- PPL&#45;&#45;Castleman disease -->\n",
       "<g id=\"edge1\" class=\"edge\">\n",
       "<title>PPL--Castleman disease</title>\n",
       "<path fill=\"none\" stroke=\"black\" d=\"M689.64,-262.5C665.11,-250.63 626.04,-231.72 597.78,-218.04\"/>\n",
       "</g>\n",
       "<!-- amide -->\n",
       "<g id=\"node3\" class=\"node\">\n",
       "<title>amide</title>\n",
       "<ellipse fill=\"none\" stroke=\"orange\" cx=\"576.67\" cy=\"-370.65\" rx=\"39\" ry=\"18\"/>\n",
       "<text text-anchor=\"middle\" x=\"576.67\" y=\"-366.95\" font-family=\"Times,serif\" font-size=\"14.00\">amide</text>\n",
       "</g>\n",
       "<!-- PPL&#45;&#45;amide -->\n",
       "<g id=\"edge2\" class=\"edge\">\n",
       "<title>PPL--amide</title>\n",
       "<path fill=\"none\" stroke=\"black\" d=\"M693.5,-287.36C668.3,-305.32 624.23,-336.74 598.01,-355.43\"/>\n",
       "</g>\n",
       "<!-- Ethanol -->\n",
       "<g id=\"node4\" class=\"node\">\n",
       "<title>Ethanol</title>\n",
       "<ellipse fill=\"none\" stroke=\"orange\" cx=\"811.02\" cy=\"-139.78\" rx=\"47\" ry=\"18\"/>\n",
       "<text text-anchor=\"middle\" x=\"811.02\" y=\"-136.08\" font-family=\"Times,serif\" font-size=\"14.00\">Ethanol</text>\n",
       "</g>\n",
       "<!-- Ethanol&#45;&#45;PPL -->\n",
       "<g id=\"edge3\" class=\"edge\">\n",
       "<title>Ethanol--PPL</title>\n",
       "<path fill=\"none\" stroke=\"black\" d=\"M798.17,-157.29C779.11,-183.23 743.63,-231.55 724.94,-257\"/>\n",
       "</g>\n",
       "<!-- Quinine -->\n",
       "<g id=\"node5\" class=\"node\">\n",
       "<title>Quinine</title>\n",
       "<ellipse fill=\"none\" stroke=\"orange\" cx=\"834.03\" cy=\"-387.35\" rx=\"47\" ry=\"18\"/>\n",
       "<text text-anchor=\"middle\" x=\"834.03\" y=\"-383.65\" font-family=\"Times,serif\" font-size=\"14.00\">Quinine</text>\n",
       "</g>\n",
       "<!-- Quinine&#45;&#45;PPL -->\n",
       "<g id=\"edge4\" class=\"edge\">\n",
       "<title>Quinine--PPL</title>\n",
       "<path fill=\"none\" stroke=\"black\" d=\"M816.13,-370.57C792.66,-348.59 751.83,-310.33 729.12,-289.05\"/>\n",
       "</g>\n",
       "<!-- VEGFA -->\n",
       "<g id=\"node6\" class=\"node\">\n",
       "<title>VEGFA</title>\n",
       "<ellipse fill=\"none\" stroke=\"green\" cx=\"312.2\" cy=\"-267.59\" rx=\"43\" ry=\"18\"/>\n",
       "<text text-anchor=\"middle\" x=\"312.2\" y=\"-263.89\" font-family=\"Times,serif\" font-size=\"14.00\">VEGFA</text>\n",
       "</g>\n",
       "<!-- VEGFA&#45;&#45;Castleman disease -->\n",
       "<g id=\"edge5\" class=\"edge\">\n",
       "<title>VEGFA--Castleman disease</title>\n",
       "<path fill=\"none\" stroke=\"black\" d=\"M348.67,-257.93C390.24,-246.93 458.68,-228.81 507.02,-216.02\"/>\n",
       "</g>\n",
       "<!-- VEGFA&#45;&#45;amide -->\n",
       "<g id=\"edge6\" class=\"edge\">\n",
       "<title>VEGFA--amide</title>\n",
       "<path fill=\"none\" stroke=\"black\" d=\"M343.84,-279.91C395.25,-299.95 496.25,-339.31 546.62,-358.94\"/>\n",
       "</g>\n",
       "<!-- Flavone -->\n",
       "<g id=\"node7\" class=\"node\">\n",
       "<title>Flavone</title>\n",
       "<ellipse fill=\"none\" stroke=\"orange\" cx=\"437.83\" cy=\"-334.83\" rx=\"47.5\" ry=\"18\"/>\n",
       "<text text-anchor=\"middle\" x=\"437.83\" y=\"-331.13\" font-family=\"Times,serif\" font-size=\"14.00\">Flavone</text>\n",
       "</g>\n",
       "<!-- Flavone&#45;&#45;VEGFA -->\n",
       "<g id=\"edge7\" class=\"edge\">\n",
       "<title>Flavone--VEGFA</title>\n",
       "<path fill=\"none\" stroke=\"black\" d=\"M410.26,-320.07C389.03,-308.71 359.84,-293.09 338.84,-281.85\"/>\n",
       "</g>\n",
       "<!-- IMC1C11 -->\n",
       "<g id=\"node8\" class=\"node\">\n",
       "<title>IMC1C11</title>\n",
       "<ellipse fill=\"none\" stroke=\"orange\" cx=\"223.23\" cy=\"-534.54\" rx=\"54.69\" ry=\"18\"/>\n",
       "<text text-anchor=\"middle\" x=\"223.23\" y=\"-530.84\" font-family=\"Times,serif\" font-size=\"14.00\">IMC1C11</text>\n",
       "</g>\n",
       "<!-- IMC1C11&#45;&#45;VEGFA -->\n",
       "<g id=\"edge8\" class=\"edge\">\n",
       "<title>IMC1C11--VEGFA</title>\n",
       "<path fill=\"none\" stroke=\"black\" d=\"M229.21,-516.61C245.42,-467.98 290.07,-333.98 306.25,-285.44\"/>\n",
       "</g>\n",
       "<!-- Glycine -->\n",
       "<g id=\"node9\" class=\"node\">\n",
       "<title>Glycine</title>\n",
       "<ellipse fill=\"none\" stroke=\"orange\" cx=\"421.11\" cy=\"-494.16\" rx=\"45.5\" ry=\"18\"/>\n",
       "<text text-anchor=\"middle\" x=\"421.11\" y=\"-490.46\" font-family=\"Times,serif\" font-size=\"14.00\">Glycine</text>\n",
       "</g>\n",
       "<!-- Glycine&#45;&#45;VEGFA -->\n",
       "<g id=\"edge9\" class=\"edge\">\n",
       "<title>Glycine--VEGFA</title>\n",
       "<path fill=\"none\" stroke=\"black\" d=\"M412.56,-476.38C392.2,-434.03 341.02,-327.55 320.71,-285.28\"/>\n",
       "</g>\n",
       "<!-- Piceid -->\n",
       "<g id=\"node10\" class=\"node\">\n",
       "<title>Piceid</title>\n",
       "<ellipse fill=\"none\" stroke=\"orange\" cx=\"290.41\" cy=\"-406.62\" rx=\"39\" ry=\"18\"/>\n",
       "<text text-anchor=\"middle\" x=\"290.41\" y=\"-402.92\" font-family=\"Times,serif\" font-size=\"14.00\">Piceid</text>\n",
       "</g>\n",
       "<!-- Piceid&#45;&#45;VEGFA -->\n",
       "<g id=\"edge10\" class=\"edge\">\n",
       "<title>Piceid--VEGFA</title>\n",
       "<path fill=\"none\" stroke=\"black\" d=\"M293.26,-388.44C297.43,-361.8 305.17,-312.41 309.35,-285.77\"/>\n",
       "</g>\n",
       "<!-- Tempol -->\n",
       "<g id=\"node11\" class=\"node\">\n",
       "<title>Tempol</title>\n",
       "<ellipse fill=\"none\" stroke=\"orange\" cx=\"131.91\" cy=\"-389.93\" rx=\"44.39\" ry=\"18\"/>\n",
       "<text text-anchor=\"middle\" x=\"131.91\" y=\"-386.23\" font-family=\"Times,serif\" font-size=\"14.00\">Tempol</text>\n",
       "</g>\n",
       "<!-- Tempol&#45;&#45;VEGFA -->\n",
       "<g id=\"edge11\" class=\"edge\">\n",
       "<title>Tempol--VEGFA</title>\n",
       "<path fill=\"none\" stroke=\"black\" d=\"M154.75,-374.44C189.42,-350.9 254.98,-306.41 289.55,-282.95\"/>\n",
       "</g>\n",
       "<!-- Urea -->\n",
       "<g id=\"node12\" class=\"node\">\n",
       "<title>Urea</title>\n",
       "<ellipse fill=\"none\" stroke=\"orange\" cx=\"178.45\" cy=\"-229.27\" rx=\"34\" ry=\"18\"/>\n",
       "<text text-anchor=\"middle\" x=\"178.45\" y=\"-225.57\" font-family=\"Times,serif\" font-size=\"14.00\">Urea</text>\n",
       "</g>\n",
       "<!-- Urea&#45;&#45;VEGFA -->\n",
       "<g id=\"edge12\" class=\"edge\">\n",
       "<title>Urea--VEGFA</title>\n",
       "<path fill=\"none\" stroke=\"black\" d=\"M208.46,-237.87C228.64,-243.65 255.33,-251.29 276.59,-257.38\"/>\n",
       "</g>\n",
       "<!-- Epanova -->\n",
       "<g id=\"node13\" class=\"node\">\n",
       "<title>Epanova</title>\n",
       "<ellipse fill=\"none\" stroke=\"orange\" cx=\"120.56\" cy=\"-85.61\" rx=\"50.89\" ry=\"18\"/>\n",
       "<text text-anchor=\"middle\" x=\"120.56\" y=\"-81.91\" font-family=\"Times,serif\" font-size=\"14.00\">Epanova</text>\n",
       "</g>\n",
       "<!-- Epanova&#45;&#45;VEGFA -->\n",
       "<g id=\"edge13\" class=\"edge\">\n",
       "<title>Epanova--VEGFA</title>\n",
       "<path fill=\"none\" stroke=\"black\" d=\"M138.59,-102.73C175.3,-137.59 258.32,-216.42 294.64,-250.91\"/>\n",
       "</g>\n",
       "<!-- Aloin -->\n",
       "<g id=\"node14\" class=\"node\">\n",
       "<title>Aloin</title>\n",
       "<ellipse fill=\"none\" stroke=\"orange\" cx=\"34.5\" cy=\"-257.24\" rx=\"34.5\" ry=\"18\"/>\n",
       "<text text-anchor=\"middle\" x=\"34.5\" y=\"-253.54\" font-family=\"Times,serif\" font-size=\"14.00\">Aloin</text>\n",
       "</g>\n",
       "<!-- Aloin&#45;&#45;VEGFA -->\n",
       "<g id=\"edge14\" class=\"edge\">\n",
       "<title>Aloin--VEGFA</title>\n",
       "<path fill=\"none\" stroke=\"black\" d=\"M69.11,-258.53C119.71,-260.42 213.83,-263.92 268.93,-265.97\"/>\n",
       "</g>\n",
       "<!-- Lactase -->\n",
       "<g id=\"node15\" class=\"node\">\n",
       "<title>Lactase</title>\n",
       "<ellipse fill=\"none\" stroke=\"orange\" cx=\"416.75\" cy=\"-18\" rx=\"46.29\" ry=\"18\"/>\n",
       "<text text-anchor=\"middle\" x=\"416.75\" y=\"-14.3\" font-family=\"Times,serif\" font-size=\"14.00\">Lactase</text>\n",
       "</g>\n",
       "<!-- Lactase&#45;&#45;VEGFA -->\n",
       "<g id=\"edge15\" class=\"edge\">\n",
       "<title>Lactase--VEGFA</title>\n",
       "<path fill=\"none\" stroke=\"black\" d=\"M409.23,-35.95C389.94,-82 338.87,-203.93 319.65,-249.8\"/>\n",
       "</g>\n",
       "<!-- Biotin -->\n",
       "<g id=\"node16\" class=\"node\">\n",
       "<title>Biotin</title>\n",
       "<ellipse fill=\"none\" stroke=\"orange\" cx=\"418.99\" cy=\"-167.84\" rx=\"38.5\" ry=\"18\"/>\n",
       "<text text-anchor=\"middle\" x=\"418.99\" y=\"-164.14\" font-family=\"Times,serif\" font-size=\"14.00\">Biotin</text>\n",
       "</g>\n",
       "<!-- Biotin&#45;&#45;VEGFA -->\n",
       "<g id=\"edge16\" class=\"edge\">\n",
       "<title>Biotin--VEGFA</title>\n",
       "<path fill=\"none\" stroke=\"black\" d=\"M401.36,-184.31C381.57,-202.79 349.66,-232.6 329.86,-251.09\"/>\n",
       "</g>\n",
       "<!-- Fasudil -->\n",
       "<g id=\"node17\" class=\"node\">\n",
       "<title>Fasudil</title>\n",
       "<ellipse fill=\"none\" stroke=\"orange\" cx=\"275.72\" cy=\"-91.62\" rx=\"44.39\" ry=\"18\"/>\n",
       "<text text-anchor=\"middle\" x=\"275.72\" y=\"-87.92\" font-family=\"Times,serif\" font-size=\"14.00\">Fasudil</text>\n",
       "</g>\n",
       "<!-- Fasudil&#45;&#45;VEGFA -->\n",
       "<g id=\"edge17\" class=\"edge\">\n",
       "<title>Fasudil--VEGFA</title>\n",
       "<path fill=\"none\" stroke=\"black\" d=\"M279.48,-109.79C286.49,-143.59 301.46,-215.78 308.45,-249.52\"/>\n",
       "</g>\n",
       "</g>\n",
       "</svg>"
      ],
      "text/plain": [
       "<IPython.core.display.SVG object>"
      ]
     },
     "execution_count": 190,
     "metadata": {},
     "output_type": "execute_result"
    }
   ],
   "source": [
    "SVG('/home/ubuntu/PROJECTS/BIG_ROBOKOP_MAP/castleman_demo_v1.svg')"
   ]
  },
  {
   "cell_type": "code",
   "execution_count": 36,
   "metadata": {},
   "outputs": [],
   "source": [
    "valid_smoothing_types = [\"none\",\"avg_dist\",\"graph_dist\",\"power_dist\",\"rng\",\"spring\",\"triangle\"]\n",
    "#class ValidSmoothing(enum.StrEnum):\n",
    "#    none = auto()\n",
    "    \n",
    "def drawSVG(G : pgv.AGraph, renderToNotebook : bool=True, repulsiveforce : float=1.0, K :float=0.3, smoothing_type : str=\"none\", svg_fname : str='/home/ubuntu/PROJECTS/BIG_ROBOKOP_MAP/graph.svg'):\n",
    "    if(smoothing_type not in valid_smoothing_types):raise ValueError\n",
    "    G.layout(prog=\"sfdp\", args=f\"-Glevels=4 -Goverlap=scale -Grepulsiveforce={repulsiveforce} -GK={K} -Gsmoothing={smoothing_type}\")\n",
    "    G.draw(svg_fname)\n",
    "    if(renderToNotebook): return SVG(svg_fname)"
   ]
  },
  {
   "cell_type": "code",
   "execution_count": 249,
   "metadata": {},
   "outputs": [
    {
     "name": "stdout",
     "output_type": "stream",
     "text": [
      "Approved nodes: 105\n"
     ]
    }
   ],
   "source": [
    "G = makeGraph(nodes,rels,8)\n",
    "drawSVG(G,False,11.0,0.1,\"none\")"
   ]
  },
  {
   "cell_type": "code",
   "execution_count": 251,
   "metadata": {},
   "outputs": [
    {
     "name": "stdout",
     "output_type": "stream",
     "text": [
      "Approved nodes: 105\n",
      "none\n",
      "Approved nodes: 105\n",
      "avg_dist\n",
      "Approved nodes: 105\n",
      "graph_dist\n",
      "Approved nodes: 105\n",
      "power_dist\n",
      "Approved nodes: 105\n",
      "rng\n",
      "Approved nodes: 105\n",
      "spring\n",
      "Approved nodes: 105\n",
      "triangle\n"
     ]
    }
   ],
   "source": [
    "for smoothing in valid_smoothing_types:\n",
    "    G = makeGraph(nodes,rels,8)\n",
    "    drawSVG(G,False,11.0,0.1,smoothing)\n",
    "    print(smoothing)\n",
    "    input(\"Hi\")"
   ]
  },
  {
   "cell_type": "code",
   "execution_count": 254,
   "metadata": {},
   "outputs": [
    {
     "name": "stdout",
     "output_type": "stream",
     "text": [
      "Approved nodes: 497\n"
     ]
    }
   ],
   "source": [
    "G = makeGraph(nodes,rels,11)\n",
    "drawSVG(G,False,11.0,0.1,\"spring\")"
   ]
  },
  {
   "cell_type": "code",
   "execution_count": 255,
   "metadata": {},
   "outputs": [
    {
     "name": "stdout",
     "output_type": "stream",
     "text": [
      "Approved nodes: 497\n"
     ]
    }
   ],
   "source": [
    "G = makeGraph(nodes,rels,11)\n",
    "drawSVG(G,False,11.0,0.1,\"graph_dist\")"
   ]
  },
  {
   "cell_type": "code",
   "execution_count": 4,
   "metadata": {},
   "outputs": [],
   "source": [
    "import string\n",
    "l = string.ascii_lowercase[:14]"
   ]
  },
  {
   "cell_type": "code",
   "execution_count": 9,
   "metadata": {},
   "outputs": [
    {
     "name": "stdout",
     "output_type": "stream",
     "text": [
      "0\n",
      "1\n",
      "b\n",
      "2\n",
      "c\n",
      "3\n",
      "d\n",
      "4\n",
      "e\n",
      "5\n",
      "f\n",
      "6\n",
      "g\n",
      "7\n",
      "h\n",
      "8\n",
      "i\n",
      "9\n",
      "j\n",
      "10\n",
      "k\n",
      "11\n",
      "l\n",
      "12\n",
      "m\n",
      "13\n",
      "DONE!\n"
     ]
    }
   ],
   "source": [
    "n=-1\n",
    "for m,letter in enumerate(l):\n",
    "    n+=1\n",
    "    print(n)\n",
    "    if(n==0):\n",
    "        #n+=1\n",
    "        continue\n",
    "    elif(n==len(l)-1):\n",
    "        #n+=1\n",
    "        print(\"DONE!\")\n",
    "    else:\n",
    "        #n+=1\n",
    "        print(letter)\n",
    "    "
   ]
  },
  {
   "cell_type": "code",
   "execution_count": null,
   "metadata": {},
   "outputs": [],
   "source": []
  }
 ],
 "metadata": {
  "kernelspec": {
   "display_name": "Python 3 (ipykernel)",
   "language": "python",
   "name": "python3"
  },
  "language_info": {
   "codemirror_mode": {
    "name": "ipython",
    "version": 3
   },
   "file_extension": ".py",
   "mimetype": "text/x-python",
   "name": "python",
   "nbconvert_exporter": "python",
   "pygments_lexer": "ipython3",
   "version": "3.9.12"
  }
 },
 "nbformat": 4,
 "nbformat_minor": 5
}
